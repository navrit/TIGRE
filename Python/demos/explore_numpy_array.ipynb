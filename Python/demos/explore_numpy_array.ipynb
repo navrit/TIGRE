{
 "cells": [
  {
   "cell_type": "code",
   "execution_count": 11,
   "metadata": {},
   "outputs": [
    {
     "name": "stdout",
     "output_type": "stream",
     "text": [
      "(21, 512, 512) <class 'numpy.ndarray'> float64\n"
     ]
    }
   ],
   "source": [
    "import os\n",
    "import numpy as np\n",
    "import SimpleITK as sitk\n",
    "\n",
    "\n",
    "prefix = 'F:\\\\jasper\\\\data\\\\20220727_HamnCheeseseries_M\\\\results_navrit\\\\'\n",
    "filename = 'all_dac_values.npy'\n",
    "file_path = os.path.join(prefix, filename)\n",
    "\n",
    "arr = np.load(file_path)\n",
    "print(arr.shape, type(arr), arr.dtype)\n",
    "\n",
    "image_viewer = sitk.ImageViewer()\n",
    "image_viewer.SetApplication(\"C:\\\\Software\\\\Fiji.app\\\\ImageJ-win64.exe\")\n",
    "image_viewer.SetTitle(file_path)"
   ]
  },
  {
   "cell_type": "code",
   "execution_count": 14,
   "metadata": {},
   "outputs": [],
   "source": [
    "image_viewer.Execute(sitk.GetImageFromArray(arr))"
   ]
  },
  {
   "cell_type": "code",
   "execution_count": null,
   "metadata": {},
   "outputs": [],
   "source": []
  }
 ],
 "metadata": {
  "kernelspec": {
   "display_name": "Python 3.9.13 64-bit ('miniconda3')",
   "language": "python",
   "name": "python3"
  },
  "language_info": {
   "codemirror_mode": {
    "name": "ipython",
    "version": 3
   },
   "file_extension": ".py",
   "mimetype": "text/x-python",
   "name": "python",
   "nbconvert_exporter": "python",
   "pygments_lexer": "ipython3",
   "version": "3.9.13"
  },
  "orig_nbformat": 4,
  "vscode": {
   "interpreter": {
    "hash": "843aefc0e7c492ae60624baaf355b13fc928052ed840e2ba692a778209302c36"
   }
  }
 },
 "nbformat": 4,
 "nbformat_minor": 2
}
