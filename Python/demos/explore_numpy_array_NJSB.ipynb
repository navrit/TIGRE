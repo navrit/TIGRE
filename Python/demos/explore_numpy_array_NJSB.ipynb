{
 "cells": [
  {
   "cell_type": "code",
   "execution_count": 1,
   "metadata": {},
   "outputs": [],
   "source": [
    "%matplotlib qt5\n",
    "\n",
    "import os\n",
    "import numpy as np\n",
    "import SimpleITK as sitk\n",
    "import matplotlib\n",
    "import matplotlib.pyplot as plt\n",
    "from copy import copy\n",
    "from tqdm import trange\n",
    "\n",
    "def plot_image(arr, title='', vmin=None, vmax=None):\n",
    "    cm = copy(plt.cm.viridis)\n",
    "    plt.figure(figsize=(20,20))\n",
    "    im = plt.imshow(arr, vmin=vmin, vmax=vmax, cmap=cm, interpolation='none')\n",
    "    plt.title(title)\n",
    "    im.cmap.set_under('b')\n",
    "    im.cmap.set_over('r')\n",
    "    im.cmap.set_bad('pink')\n",
    "    plt.colorbar()\n",
    "    plt.show()"
   ]
  },
  {
   "cell_type": "code",
   "execution_count": 2,
   "metadata": {},
   "outputs": [
    {
     "name": "stdout",
     "output_type": "stream",
     "text": [
      "(39, 10, 512, 512) <class 'numpy.ndarray'> float64\n"
     ]
    }
   ],
   "source": [
    "prefix = r'F:\\Jasper\\Data\\20221014_HamNCheese_Best_of_the_best\\results'\n",
    "\n",
    "ff_filename = 'open_stack_th0.npy'\n",
    "ff_file_path = os.path.join(prefix, ff_filename)\n",
    "ff = np.load(ff_file_path)\n",
    "print(ff.shape, type(ff), ff.dtype)\n",
    "\n",
    "# proj_filename = 'projs_stack_th0.npy'\n",
    "# proj_file_path = os.path.join(prefix, proj_filename)\n",
    "# proj = np.load(proj_file_path)\n",
    "# print(proj.shape, type(proj), proj.dtype)"
   ]
  },
  {
   "cell_type": "code",
   "execution_count": 3,
   "metadata": {},
   "outputs": [],
   "source": [
    "arr_3d = proj[0] / np.sum(ff, axis=1)[0]\n",
    "arr = arr_3d[0]"
   ]
  },
  {
   "cell_type": "code",
   "execution_count": 4,
   "metadata": {},
   "outputs": [
    {
     "ename": "ValueError",
     "evalue": "all the input arrays must have same number of dimensions, but the array at index 0 has 3 dimension(s) and the array at index 1 has 2 dimension(s)",
     "output_type": "error",
     "traceback": [
      "\u001b[1;31m---------------------------------------------------------------------------\u001b[0m",
      "\u001b[1;31mValueError\u001b[0m                                Traceback (most recent call last)",
      "\u001b[1;32mc:\\Software\\Tigre\\Python\\demos\\explore_numpy_array_NJSB.ipynb Cell 4\u001b[0m in \u001b[0;36m<cell line: 28>\u001b[1;34m()\u001b[0m\n\u001b[0;32m     <a href='vscode-notebook-cell:/c%3A/Software/Tigre/Python/demos/explore_numpy_array_NJSB.ipynb#W3sZmlsZQ%3D%3D?line=22'>23</a>\u001b[0m \u001b[39m# # b = np.diff(arr[0], axis=0)[:diff_pixels,:diff_pixels]\u001b[39;00m\n\u001b[0;32m     <a href='vscode-notebook-cell:/c%3A/Software/Tigre/Python/demos/explore_numpy_array_NJSB.ipynb#W3sZmlsZQ%3D%3D?line=23'>24</a>\u001b[0m \u001b[39m# # c = np.diff(arr[0], axis=1)[:diff_pixels,:diff_pixels]\u001b[39;00m\n\u001b[0;32m     <a href='vscode-notebook-cell:/c%3A/Software/Tigre/Python/demos/explore_numpy_array_NJSB.ipynb#W3sZmlsZQ%3D%3D?line=24'>25</a>\u001b[0m \u001b[39m# b = np.diff(arr[0], axis=0)\u001b[39;00m\n\u001b[0;32m     <a href='vscode-notebook-cell:/c%3A/Software/Tigre/Python/demos/explore_numpy_array_NJSB.ipynb#W3sZmlsZQ%3D%3D?line=25'>26</a>\u001b[0m \u001b[39m# c = np.diff(arr[0], axis=1)\u001b[39;00m\n\u001b[0;32m     <a href='vscode-notebook-cell:/c%3A/Software/Tigre/Python/demos/explore_numpy_array_NJSB.ipynb#W3sZmlsZQ%3D%3D?line=26'>27</a>\u001b[0m z \u001b[39m=\u001b[39m np\u001b[39m.\u001b[39mzeros((\u001b[39m1\u001b[39m,\u001b[39m512\u001b[39m))\n\u001b[1;32m---> <a href='vscode-notebook-cell:/c%3A/Software/Tigre/Python/demos/explore_numpy_array_NJSB.ipynb#W3sZmlsZQ%3D%3D?line=27'>28</a>\u001b[0m b \u001b[39m=\u001b[39m np\u001b[39m.\u001b[39;49mconcatenate((b, z), axis\u001b[39m=\u001b[39;49m\u001b[39m0\u001b[39;49m)\n\u001b[0;32m     <a href='vscode-notebook-cell:/c%3A/Software/Tigre/Python/demos/explore_numpy_array_NJSB.ipynb#W3sZmlsZQ%3D%3D?line=28'>29</a>\u001b[0m c \u001b[39m=\u001b[39m np\u001b[39m.\u001b[39mconcatenate((c, z\u001b[39m.\u001b[39mT), axis\u001b[39m=\u001b[39m\u001b[39m1\u001b[39m)\n\u001b[0;32m     <a href='vscode-notebook-cell:/c%3A/Software/Tigre/Python/demos/explore_numpy_array_NJSB.ipynb#W3sZmlsZQ%3D%3D?line=29'>30</a>\u001b[0m \u001b[39mprint\u001b[39m(b\u001b[39m.\u001b[39mshape)\n",
      "File \u001b[1;32m<__array_function__ internals>:180\u001b[0m, in \u001b[0;36mconcatenate\u001b[1;34m(*args, **kwargs)\u001b[0m\n",
      "\u001b[1;31mValueError\u001b[0m: all the input arrays must have same number of dimensions, but the array at index 0 has 3 dimension(s) and the array at index 1 has 2 dimension(s)"
     ]
    }
   ],
   "source": [
    "\n",
    "# print(np.min(arr), np.max(arr), np.mean(arr), np.median(arr), np.std(arr))\n",
    "# print(np.nanmin(arr), np.nanmax(arr), np.nanmean(arr), np.nanmedian(arr), np.nanstd(arr))\n",
    "\n",
    "# plt.hist(arr.flatten(), bins=200)\n",
    "# plt.yscale('log')\n",
    "# plt.show()\n",
    "\n",
    "# plt.hist(arr[0].flatten(), bins=200)\n",
    "# plt.yscale('log')\n",
    "# plt.show()\n",
    "\n",
    "# plt.hist(arr[-1].flatten(), bins=200)\n",
    "# plt.yscale('log')\n",
    "# plt.show()\n",
    "\n",
    "plt.close('all')\n",
    "\n",
    "# diff_pixels = 512 - 1\n",
    "\n",
    "\n",
    "b = np.diff(arr, axis=0)\n",
    "c = np.diff(arr, axis=1)\n",
    "# # b = np.diff(arr[0], axis=0)[:diff_pixels,:diff_pixels]\n",
    "# # c = np.diff(arr[0], axis=1)[:diff_pixels,:diff_pixels]\n",
    "# b = np.diff(arr[0], axis=0)\n",
    "# c = np.diff(arr[0], axis=1)\n",
    "z = np.zeros((1,512))\n",
    "b = np.concatenate((b, z), axis=0)\n",
    "c = np.concatenate((c, z.T), axis=1)\n",
    "print(b.shape)\n",
    "print(c.shape)\n",
    "a = b - c\n",
    "\n",
    "\n",
    "\n",
    "a_flat = a.flatten()\n",
    "a0 = np.nanmedian(a) - 3 * np.nanstd(a)\n",
    "a1 = np.nanmedian(a) + 3 * np.nanstd(a)\n",
    "# plt.title(f'{np.min(a_flat)} --> {np.max(a_flat)}')\n",
    "# plt.hist(a_flat, bins=1000)\n",
    "# plt.axvline(a0, c='k')\n",
    "# plt.axvline(a1, c='k')\n",
    "# plt.yscale('log')\n",
    "# plt.show()\n",
    "\n",
    "\n",
    "out = np.array(arr, copy=True) \n",
    "for i in trange(0, a.shape[0]-2):\n",
    "    for j in range(0, a.shape[1]-2):\n",
    "        if a[i+1,j] > a1 and a[i,j+1] < a0:\n",
    "            out[i+1,j+1] = np.median(out[i:i+2, j:j+2]) #np.NaN\n",
    "\n",
    "plot_image(out, 'Hot pixels?')\n",
    "\n",
    "# plot_image(a, 'Diff wrt axes 0 & 1', vmin=a0, vmax=a1)\n",
    "plot_image(arr, 'arr min, max', vmin=np.nanmin(arr), vmax=np.nanmax(arr))\n",
    "# # plot_image(arr[0], 'arr[0] min, max', vmin=np.nanmin(arr[0]), vmax=np.nanmax(arr[0]))\n",
    "# # plot_image(arr[0], 'arr[0] +/- 3 sigma', vmin=np.nanmedian(arr[0])-3*np.nanstd(arr[0]), vmax=np.nanmedian(arr[0])+3*np.nanstd(arr[0]))\n",
    "# # plot_image(arr[-1], 'arr[-1] min, max', vmin=np.nanmin(arr[-1]), vmax=np.nanmax(arr[-1]))\n"
   ]
  },
  {
   "cell_type": "code",
   "execution_count": 5,
   "metadata": {},
   "outputs": [
    {
     "name": "stdout",
     "output_type": "stream",
     "text": [
      "(39, 10, 512, 512)\n"
     ]
    }
   ],
   "source": [
    "# Std. dev. over projections\n",
    "print(arr_3d.shape)\n",
    "# arr_px = arr_3d[:,100,100]\n",
    "std_over_proj = np.std(arr_3d, axis=(1,2))\n",
    "plt.plot(std_over_proj)\n",
    "plt.show()"
   ]
  },
  {
   "cell_type": "code",
   "execution_count": 6,
   "metadata": {},
   "outputs": [],
   "source": [
    "image_viewer = sitk.ImageViewer()\n",
    "image_viewer.SetApplication(\"C:\\\\Software\\\\Fiji.app\\\\ImageJ-win64.exe\")\n",
    "# image_viewer.SetApplication(r\"C:\\Program Files\\Mango\\Mango.exe\")\n",
    "# image_viewer.SetApplication(r\"C:\\Program Files\\ITK-SNAP 3.8\\bin\\ITK-SNAP.exe\")\n",
    "image_viewer.SetTitle(proj_file_path.replace('\\\\','_').replace(':',''))\n",
    "image_viewer.Execute(sitk.GetImageFromArray(arr))"
   ]
  }
 ],
 "metadata": {
  "kernelspec": {
   "display_name": "Python 3.9.13 ('base')",
   "language": "python",
   "name": "python3"
  },
  "language_info": {
   "codemirror_mode": {
    "name": "ipython",
    "version": 3
   },
   "file_extension": ".py",
   "mimetype": "text/x-python",
   "name": "python",
   "nbconvert_exporter": "python",
   "pygments_lexer": "ipython3",
   "version": "3.9.13"
  },
  "orig_nbformat": 4,
  "vscode": {
   "interpreter": {
    "hash": "843aefc0e7c492ae60624baaf355b13fc928052ed840e2ba692a778209302c36"
   }
  }
 },
 "nbformat": 4,
 "nbformat_minor": 2
}
