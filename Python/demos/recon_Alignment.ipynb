{
 "cells": [
  {
   "cell_type": "code",
   "execution_count": 1,
   "metadata": {},
   "outputs": [
    {
     "name": "stdout",
     "output_type": "stream",
     "text": [
      "{'pixels': 512, 'pixel_pitch': 0.055, 'fill_gap': True, 'median_filter': False, 'bad_pixel_correction': True, 'recon_voxels': (512, 512, 512), 'distance_source_detector': 188.347, 'z_stage_distance_mm': 0.0, 'distance_object_detector': 43.347, 'detector_rotation': (-0.005235987755982988, 0.0, 0.0), 'recon_size': (21.679134788448977, 21.679134788448977, 21.679134788448977)}\n",
      "centre_of_rotation_offset_x_mm = 0.43725 (mm)\n",
      "centre_of_rotation_offset_y_mm = 0 (mm)\n"
     ]
    }
   ],
   "source": [
    "'''\n",
    "Windows: Open Anaconda prompt\n",
    "conda create --name tigre_env -c anaconda -c ccpi -c conda-forge  python tigre simpleitk ipykernel opencv astropy tomopy nibabel scikit-image scikit-learn scipy tqdm scikit-learn-intelex jupyter ipywidgets\n",
    "conda activate tigre_env\n",
    "\n",
    "conda list --export > conda-package-list.txt\n",
    "conda create -n tigre_env --file conda-package-list.txt\n",
    "'''\n",
    "\n",
    "import json\n",
    "import math\n",
    "import multiprocessing\n",
    "import os\n",
    "import sys\n",
    "from __future__ import division\n",
    "\n",
    "\n",
    "import cv2\n",
    "import matplotlib.pyplot as plt\n",
    "import nibabel as nib\n",
    "import numpy as np\n",
    "import SimpleITK as sitk\n",
    "import tomopy\n",
    "from astropy.convolution import Gaussian2DKernel, interpolate_replace_nans\n",
    "from PIL import Image\n",
    "from scipy import interpolate\n",
    "from scipy.ndimage import median_filter\n",
    "from scipy.signal import medfilt2d\n",
    "from skimage.registration import phase_cross_correlation\n",
    "from tqdm import trange, tqdm\n",
    "from typing import List\n",
    "import SimpleITK as sitk\n",
    "\n",
    "\n",
    "import tigre\n",
    "import tigre.algorithms as algs\n",
    "from tigre.utilities.geometry import Geometry\n",
    "\n",
    "import shared_functions as s\n",
    "\n",
    "kernel = Gaussian2DKernel(x_stddev=2)\n",
    "\n",
    "drive = 'f:\\\\'\n",
    "base_folder = os.path.join(drive, 'jasper', 'data', '2022090_Alignment_oldplate_2')\n",
    "base_json_file = os.path.join(base_folder, 'scan_settings.json')\n",
    "results_folder = os.path.join(base_folder, 'results')\n",
    "if not os.path.exists(results_folder):\n",
    "    os.makedirs(results_folder)\n",
    "\n",
    "\n",
    "# Make a list of globals for the reconstruction setting, and log them in a json file\n",
    "gReconParams = dict()\n",
    "\n",
    "gReconParams['pixels'] = 512  # (pixels)\n",
    "gReconParams['pixel_pitch'] = 0.055  # (mm)\n",
    "gReconParams['fill_gap'] = True\n",
    "gReconParams['median_filter'] = False\n",
    "gReconParams['bad_pixel_correction'] = True\n",
    "gReconParams['recon_voxels'] = (\n",
    "    gReconParams['pixels'], gReconParams['pixels'], gReconParams['pixels'])  # number of voxels (vx)\n",
    " \n",
    "''' TODO These should really be read from the JSON file! '''\n",
    "gReconParams['distance_source_detector'] = 188.347  # 9+9+30+100+30+9+1.347 (mm)\n",
    "gReconParams['z_stage_distance_mm'] = s.get_sample_z_from_first_scan_json(base_json_file) # Varies between 0 and 100 mm\n",
    "gReconParams['distance_object_detector'] = 30 + 3 + \\\n",
    "    gReconParams['z_stage_distance_mm'] + 9+1.347  # (mm)\n",
    "gReconParams['detector_rotation'] = (math.radians(-0.3), 0., 0.)  # (mm)\n",
    "\n",
    "assert gReconParams['z_stage_distance_mm'] < 100 and gReconParams['z_stage_distance_mm'] >= 0\n",
    "\n",
    "\n",
    "DSD = gReconParams['distance_source_detector']\n",
    "DSO = DSD - gReconParams['distance_object_detector']\n",
    "# a = 2 * 512 * 0.055 / (((DSD-DSO) / DSO) + 1) #TODO have to explain the numbers\n",
    "a = 512 * 0.055 / (((DSD-DSO) / DSO) + 1) #TODO have to explain the numbers ::: For 20220822_ffpe_whateverBreast\n",
    "gReconParams['recon_size'] = (a, a, a)\n",
    "# gReconParams['recon_size'] = (512*0.055,512*0.055,512*0.055)\n",
    "\n",
    "print(gReconParams)\n",
    "\n",
    "# 20220805_tumourWhateverBreast\n",
    "# centre_of_rotation_offset_x_mm = -0.27  # s.find_optimal_offset(gReconParams, spectral_projs_th0[1, :, :, :], angles, detector_x_offsets, detector_y_offsets, stage_offset=0, search_range=25)\n",
    "# centre_of_rotation_offset_y_mm = -0.24\n",
    "\n",
    "# 20220822_ffpe_WhateverBreast\n",
    "# centre_of_rotation_offset_x_mm = 0.16885  # s.find_optimal_offset(gReconParams, spectral_projs_th0[1, :, :, :], angles, detector_x_offsets, detector_y_offsets, stage_offset=0, search_range=25)\n",
    "# centre_of_rotation_offset_y_mm = 0.0\n",
    "\n",
    "# 20220727_HamnCheeseseries_M\n",
    "centre_of_rotation_offset_x_mm = 0.43725  # s.find_optimal_offset(gReconParams, spectral_projs_th0[1, :, :, :], angles, detector_x_offsets, detector_y_offsets, stage_offset=0, search_range=25)\n",
    "centre_of_rotation_offset_y_mm = 0\n",
    "\n",
    "print(f'centre_of_rotation_offset_x_mm = {centre_of_rotation_offset_x_mm} (mm)')\n",
    "print(f'centre_of_rotation_offset_y_mm = {centre_of_rotation_offset_y_mm} (mm)')"
   ]
  },
  {
   "cell_type": "code",
   "execution_count": 2,
   "metadata": {},
   "outputs": [
    {
     "name": "stdout",
     "output_type": "stream",
     "text": [
      "Making new numpy files, should take ~4.5 minutes. At least one file was missing :( \n"
     ]
    },
    {
     "name": "stderr",
     "output_type": "stream",
     "text": [
      "100%|██████████| 1/1 [00:50<00:00, 50.22s/it]\n"
     ]
    }
   ],
   "source": [
    "spectral_projs_th0, spectral_open_th0, spectral_projs_th1, spectral_open_th1, th0_list, th1_list, exp_time, angles, z_offset, detector_x_offsets, detector_y_offsets, th0_dacs_list, th1_dacs_list = \\\n",
    "    s.load_or_generate_data_arrays(base_json_file, base_folder, results_folder, gReconParams)"
   ]
  },
  {
   "cell_type": "code",
   "execution_count": null,
   "metadata": {},
   "outputs": [],
   "source": [
    "print(spectral_projs_th0.shape)"
   ]
  },
  {
   "cell_type": "code",
   "execution_count": 3,
   "metadata": {},
   "outputs": [
    {
     "name": "stdout",
     "output_type": "stream",
     "text": [
      "(1, 512, 512)\n",
      "0.264\n",
      "dsd:  188.347 dso:  145.0\n",
      "Saving Nifti array file: f:\\jasper\\data\\2022090_Alignment_oldplate_2\\results\\Recon_th0_.nii\n"
     ]
    }
   ],
   "source": [
    "open_mean_th0 = np.mean(spectral_open_th0, axis=1)\n",
    "open_mean_th1 = np.mean(spectral_open_th1, axis=1)\n",
    "print(open_mean_th0.shape)\n",
    "ofc = -np.log(spectral_projs_th0[0,:,:,:]/open_mean_th0[0,:,:])\n",
    "# ofc_bpc = s.save_and_or_load_npy_files(\n",
    "#             results_folder, f'th{0}_bpc.npy', lambda: s.generate_bad_pixel_corrected_array(ofc, gReconParams))\n",
    "stage_offset =  0.0\n",
    "centre_of_rotation_offset_x_mm = 0.264#s.find_optimal_offset(gReconParams, ofc, angles, detector_x_offsets, detector_y_offsets, stage_offset=stage_offset, search_range=20)\n",
    "print(centre_of_rotation_offset_x_mm)\n",
    "gReconParams['detector_rotation'] = (math.radians(0.3), 0., 0.)  # (mm)\n",
    "img_th0, geo = s.recon_scan(gReconParams, ofc, angles, detector_x_offsets,\n",
    "                         detector_y_offsets, centre_of_rotation_offset_x_mm, centre_of_rotation_offset_y_mm, True)\n",
    "    \n",
    "ni_img = s.make_Nifti1Image(img_th0, geo.dVoxel)\n",
    "s.save_array(results_folder, 'Recon_th0_.nii', ni_img)"
   ]
  }
 ],
 "metadata": {
  "kernelspec": {
   "display_name": "Python 3.8.12 ('base')",
   "language": "python",
   "name": "python3"
  },
  "language_info": {
   "codemirror_mode": {
    "name": "ipython",
    "version": 3
   },
   "file_extension": ".py",
   "mimetype": "text/x-python",
   "name": "python",
   "nbconvert_exporter": "python",
   "pygments_lexer": "ipython3",
   "version": "3.8.12"
  },
  "orig_nbformat": 4,
  "vscode": {
   "interpreter": {
    "hash": "aaf604448f5ed08b82e974d0d1068b227abf35bd6e25c7a0332b295ec658253a"
   }
  }
 },
 "nbformat": 4,
 "nbformat_minor": 2
}
